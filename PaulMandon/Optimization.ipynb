{
 "cells": [
  {
   "cell_type": "code",
   "execution_count": 8,
   "id": "0a95fd58",
   "metadata": {},
   "outputs": [
    {
     "name": "stderr",
     "output_type": "stream",
     "text": [
      "C:\\Users\\iampa\\AppData\\Local\\Temp\\ipykernel_13200\\1029954291.py:58: DeprecationWarning: Using a qobj for run() is deprecated as of qiskit-aer 0.9.0 and will be removed no sooner than 3 months from that release date. Transpiled circuits should now be passed directly using `backend.run(circuits, **run_options).\n",
      "  counts = Aer.get_backend('qasm_simulator').run(qobj).result().get_counts()\n"
     ]
    },
    {
     "name": "stdout",
     "output_type": "stream",
     "text": [
      "Optimal parameters: [6.261022   3.48206901 4.92607491 1.6140719  6.23239156 6.0025883\n",
      " 0.58327623 0.94770989 1.18418677 2.14359023 4.77858219 5.89878628\n",
      " 5.35620664 5.90315574 1.75422445 1.49720522 0.93138474 0.23422748\n",
      " 4.89110874 0.34027602 6.001658   4.14468224 5.5691545  5.57473264\n",
      " 3.5067048  1.49007252 5.11332016 1.40187741 4.1467038  2.81277452\n",
      " 3.54722958]\n"
     ]
    }
   ],
   "source": [
    "import numpy as np\n",
    "from scipy.optimize import minimize\n",
    "from qiskit import QuantumCircuit, Aer, transpile, assemble\n",
    "\n",
    "n = 5 #26\n",
    "\n",
    "def create_circuit(params):\n",
    "    theta1 = params[:n]\n",
    "    theta2 = params[n:2*n]\n",
    "    theta3 = params[2*n:3*n]\n",
    "    phi = params[3*n]\n",
    "    theta4 = params[3*n+1:4*n+1]\n",
    "    theta5 = params[4*n+1:5*n+1]\n",
    "    theta6 = params[5*n+1:]\n",
    "\n",
    "    qc = QuantumCircuit(n)\n",
    "\n",
    "    for qubit in range(n):\n",
    "        qc.ry(np.pi/2, qubit)\n",
    "\n",
    "    qc.barrier()\n",
    "\n",
    "    # U_en\n",
    "    for qubit in range(n):\n",
    "        qc.rx(-theta3[qubit], qubit) \n",
    "        qc.rx(-theta2[qubit]**2, qubit)\n",
    "        qc.rx(-theta1[qubit], qubit)\n",
    "\n",
    "    qc.barrier()\n",
    "\n",
    "    # e^(i*phi*Jz) to each qubit???\n",
    "    for qubit in range(n):    \n",
    "        qc.p(phi, qubit)\n",
    "\n",
    "    qc.barrier()\n",
    "\n",
    "    # U_de\n",
    "    for qubit in range(n):\n",
    "        qc.rx(-theta6[qubit], qubit)  \n",
    "        qc.rx(-theta5[qubit]**2, qubit) \n",
    "        qc.rx(-theta4[qubit], qubit)\n",
    "\n",
    "    qc.barrier() \n",
    "\n",
    "    for qubit in range(n):\n",
    "        qc.rx(np.pi/2, qubit)\n",
    "\n",
    "    qc.measure_all()\n",
    "\n",
    "    return qc\n",
    "\n",
    "# cost function\n",
    "def cost_function(params):\n",
    "    qc = create_circuit(params)\n",
    "    transpiled_qc = transpile(qc, Aer.get_backend('qasm_simulator'))\n",
    "    qobj = assemble(transpiled_qc, shots=1024)\n",
    "    counts = Aer.get_backend('qasm_simulator').run(qobj).result().get_counts()\n",
    "    total_counts = sum(counts.values())\n",
    "    return -total_counts\n",
    "\n",
    "# Optimization\n",
    "num_params = 6 * n + 1  \n",
    "initial_params = np.random.rand(num_params) * 2 * np.pi \n",
    "result = minimize(cost_function, initial_params, method='COBYLA')  \n",
    "optimal_params = result.x\n",
    "\n",
    "print(\"Optimal parameters:\", optimal_params)\n"
   ]
  },
  {
   "cell_type": "code",
   "execution_count": null,
   "id": "9ebfca7e",
   "metadata": {},
   "outputs": [],
   "source": []
  }
 ],
 "metadata": {
  "kernelspec": {
   "display_name": "Python 3 (ipykernel)",
   "language": "python",
   "name": "python3"
  },
  "language_info": {
   "codemirror_mode": {
    "name": "ipython",
    "version": 3
   },
   "file_extension": ".py",
   "mimetype": "text/x-python",
   "name": "python",
   "nbconvert_exporter": "python",
   "pygments_lexer": "ipython3",
   "version": "3.11.5"
  }
 },
 "nbformat": 4,
 "nbformat_minor": 5
}
