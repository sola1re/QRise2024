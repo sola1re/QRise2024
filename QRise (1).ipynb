{
 "cells": [
  {
   "cell_type": "code",
   "execution_count": 1,
   "id": "801d4805-c497-42bf-931b-60661c1c8b1a",
   "metadata": {
    "tags": []
   },
   "outputs": [
    {
     "name": "stderr",
     "output_type": "stream",
     "text": [
      "qiskit_runtime_service.__init__:INFO:2024-04-06 18:13:45,427: Default instance: ibm-q-education/uni-florence-1/quantum-machine\n"
     ]
    }
   ],
   "source": [
    "# Importing standard Qiskit libraries\n",
    "from qiskit import QuantumCircuit, transpile\n",
    "from qiskit.visualization import *\n",
    "from ibm_quantum_widgets import *\n",
    "from qiskit_aer import AerSimulator\n",
    "\n",
    "# qiskit-ibmq-provider has been deprecated.\n",
    "# Please see the Migration Guides in https://ibm.biz/provider_migration_guide for more detail.\n",
    "from qiskit_ibm_runtime import QiskitRuntimeService, Sampler, Estimator, Session, Options\n",
    "import numpy as np\n",
    "\n",
    "# Loading your IBM Quantum account(s)\n",
    "service = QiskitRuntimeService(channel=\"ibm_quantum\")\n",
    "\n",
    "# Invoke a primitive. For more details see https://docs.quantum.ibm.com/run/primitives\n",
    "# result = Sampler().run(circuits).result()"
   ]
  },
  {
   "cell_type": "code",
   "execution_count": 2,
   "id": "2a29901f-22c4-4323-9c98-8e3dd3350bf7",
   "metadata": {
    "tags": []
   },
   "outputs": [],
   "source": [
    "from qiskit.circuit import Parameter\n",
    "from qiskit.circuit.library import PauliEvolutionGate\n",
    "from qiskit.synthesis import SuzukiTrotter, MatrixExponential\n",
    "from qiskit.quantum_info import Operator, SparsePauliOp"
   ]
  },
  {
   "cell_type": "code",
   "execution_count": 3,
   "id": "a3975b9a-2b12-432c-a928-9c44a3eca7c1",
   "metadata": {},
   "outputs": [],
   "source": [
    "nqubits = 12 # Number of qubits\n",
    "from qiskit import  QuantumRegister, ClassicalRegister\n",
    "qr = QuantumRegister(nqubits, 'q')\n",
    "cr = ClassicalRegister(1, 'c')\n",
    "qc = QuantumCircuit(qr, cr)"
   ]
  },
  {
   "cell_type": "code",
   "execution_count": 18,
   "id": "7de0e582-0ead-4c3c-82ef-632262c2ca15",
   "metadata": {
    "tags": []
   },
   "outputs": [],
   "source": [
    "phi = np.linspace(-np.pi, np.pi, 11)"
   ]
  },
  {
   "cell_type": "code",
   "execution_count": 19,
   "id": "492fd6f3-3fd1-4f99-8264-02a96b2d7d30",
   "metadata": {
    "tags": []
   },
   "outputs": [],
   "source": [
    "def cirquit(quant_circuit, nqubits, phi):\n",
    "    for qubit in range(nqubits):\n",
    "       quant_circuit.ry(np.pi/2,qubit)\n",
    "       #quant_circuit.barrier()\n",
    "       # Encoder, n_en = 0\n",
    "       quant_circuit.ry(np.pi/2,qubit)\n",
    "       #quant_circuit.barrier()\n",
    "       #  Evolution of the phase in the atomic state\n",
    "       quant_circuit.rz(phi,qubit)  \n",
    "       #quant_circuit.barrier()\n",
    "       # Decoder, n_dec = 0\n",
    "       quant_circuit.rx(np.pi/2,qubit) \n",
    "       #quant_circuit.barrier()\n",
    "       # Measurement \n",
    "       quant_circuit.measure(qubit, cr)# Measuring qubit \n",
    "    return quant_circuit"
   ]
  },
  {
   "cell_type": "code",
   "execution_count": 20,
   "id": "8d550db4-5d1a-4c7d-874b-5c60bc7cc3dd",
   "metadata": {
    "tags": []
   },
   "outputs": [],
   "source": [
    "# Simulate the circuit\n",
    "simulator =  AerSimulator() #Aer.get_backend('qasm_simulator')\n",
    "shots = 500"
   ]
  },
  {
   "cell_type": "code",
   "execution_count": null,
   "id": "ab43d66d-f95f-4cb5-96f9-edc4e860f4ed",
   "metadata": {
    "tags": []
   },
   "outputs": [],
   "source": [
    "J_Z = []\n",
    "for phase in phi:\n",
    "    quant_ccirq = cirquit(qc, nqubits, phase)\n",
    "    job = simulator.run(quant_ccirq, shots=shots)\n",
    "    result = job.result()\n",
    "    counts = result.get_counts(quant_ccirq)\n",
    "    probs = {string:count/shots for string,count in counts.items()}\n",
    "    J_Z.append((probs['0']*1/2+probs['1']*(-1/2))*12)"
   ]
  },
  {
   "cell_type": "code",
   "execution_count": null,
   "id": "3b11a72b-0584-4ae2-b1e4-30fef0be14c2",
   "metadata": {
    "tags": []
   },
   "outputs": [],
   "source": [
    "print(J_Z)"
   ]
  },
  {
   "cell_type": "code",
   "execution_count": null,
   "id": "cf6d66b2-9ee8-4c86-90b0-30355dd4c0fd",
   "metadata": {
    "tags": []
   },
   "outputs": [],
   "source": [
    "import matplotlib.pyplot as plt"
   ]
  },
  {
   "cell_type": "code",
   "execution_count": null,
   "id": "1b5c6c12-9123-4f4c-9608-871364b55c11",
   "metadata": {
    "tags": []
   },
   "outputs": [],
   "source": [
    "fig, ax = plt.subplots(1, 1, figsize=(9, 7))\n",
    "#l2 = ax.plot(T[0:], F1[0:], linestyle='-',linewidth='1.9', color=\"grey\", label= r'$ \\mathrm{2D \\; electron \\; gas}$')\n",
    "\n",
    "l2 = ax.plot(phi, J_Z, linestyle='-',linewidth='1.9', color=\"grey\", label= r'$ J_z$') #*EJ/e*1e6\n",
    "\n",
    "plt.tight_layout(pad=2., w_pad=2., h_pad=2.0);\n",
    "\n",
    "ax.tick_params(axis='x', labelsize=28)\n",
    "ax.tick_params(axis='y', labelsize=28)\n",
    "ax.xaxis.label.set_fontsize(28)\n",
    "ax.yaxis.label.set_fontsize(28)\n",
    "\n",
    "ax.set(xlabel=r'$\\varphi$,');\n",
    "# ax.set(ylim=(-0.05,1.05));\n",
    "ax.set(ylabel=r'$J_z/\\hbar$');\n",
    "# plt.savefig(\"eta_phi.pdf\")"
   ]
  },
  {
   "cell_type": "code",
   "execution_count": null,
   "id": "f04b69aa-d02f-43d4-a175-f40cb8360298",
   "metadata": {},
   "outputs": [],
   "source": []
  }
 ],
 "metadata": {
  "kernelspec": {
   "display_name": "Qiskit v1.0.2 (ipykernel)",
   "language": "python",
   "name": "python3"
  },
  "language_info": {
   "codemirror_mode": {
    "name": "ipython",
    "version": 3
   },
   "file_extension": ".py",
   "mimetype": "text/x-python",
   "name": "python",
   "nbconvert_exporter": "python",
   "pygments_lexer": "ipython3",
   "version": "3.10.8"
  },
  "widgets": {
   "application/vnd.jupyter.widget-state+json": {
    "state": {},
    "version_major": 2,
    "version_minor": 0
   }
  }
 },
 "nbformat": 4,
 "nbformat_minor": 5
}
